{
 "cells": [
  {
   "cell_type": "markdown",
   "id": "c3300b5c",
   "metadata": {},
   "source": [
    "# 10989) 수 정렬하기3_브론즈1"
   ]
  },
  {
   "cell_type": "markdown",
   "id": "557b9ab5",
   "metadata": {},
   "source": [
    "문제  \n",
    "N개의 수가 주어졌을 때, 이를 오름차순으로 정렬하는 프로그램을 작성하시오."
   ]
  },
  {
   "cell_type": "markdown",
   "id": "7aef1b1a",
   "metadata": {},
   "source": [
    "입력  \n",
    "첫째 줄에 수의 개수 N(1 ≤ N ≤ 10,000,000)이 주어진다. 둘째 줄부터 N개의 줄에는 수가 주어진다. 이 수는 10,000보다 작거나 같은 자연수이다."
   ]
  },
  {
   "cell_type": "markdown",
   "id": "808ad6ed",
   "metadata": {},
   "source": [
    "출력  \n",
    "첫째 줄부터 N개의 줄에 오름차순으로 정렬한 결과를 한 줄에 하나씩 출력한다."
   ]
  },
  {
   "cell_type": "code",
   "execution_count": 1,
   "id": "48cd7b8f",
   "metadata": {},
   "outputs": [
    {
     "name": "stdout",
     "output_type": "stream",
     "text": [
      "10\n",
      "5\n",
      "2\n",
      "3\n",
      "1\n",
      "4\n",
      "2\n",
      "3\n",
      "5\n",
      "1\n",
      "7\n",
      "1\n",
      "1\n",
      "2\n",
      "2\n",
      "3\n",
      "3\n",
      "4\n",
      "5\n",
      "5\n",
      "7\n"
     ]
    }
   ],
   "source": [
    "# 수의 개수 N\n",
    "N = int(input())\n",
    "\n",
    "# 10000까지의 수의 갯수만큼 담을 수 있도록 배열 생성, 0번 인덱스의 경우 무시\n",
    "nums = [0 for _ in range(10001)]\n",
    "\n",
    "for _ in range(N):\n",
    "    # 한 줄씩 입력 받음\n",
    "    num = int(input())\n",
    "    # 입력받은 값에 해당하는 수를 증가\n",
    "    nums[num] += 1\n",
    "\n",
    "for number in range(1, len(nums)):\n",
    "    # 실제로 배열에 해당하는 값에 대해 0일 경우 해당 숫자가 존재하지 않음\n",
    "    if nums[number] != 0:\n",
    "        # 수가 존재하는 만큼 출력\n",
    "        for _ in range(nums[number]):\n",
    "            print(number)"
   ]
  }
 ],
 "metadata": {
  "kernelspec": {
   "display_name": "Python3.8_spare",
   "language": "python",
   "name": "spare"
  },
  "language_info": {
   "codemirror_mode": {
    "name": "ipython",
    "version": 3
   },
   "file_extension": ".py",
   "mimetype": "text/x-python",
   "name": "python",
   "nbconvert_exporter": "python",
   "pygments_lexer": "ipython3",
   "version": "3.8.13"
  }
 },
 "nbformat": 4,
 "nbformat_minor": 5
}
