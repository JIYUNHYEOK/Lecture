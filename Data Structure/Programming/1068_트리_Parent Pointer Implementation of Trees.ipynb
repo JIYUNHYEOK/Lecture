{
 "cells": [
  {
   "cell_type": "markdown",
   "id": "ba0a54c1",
   "metadata": {},
   "source": [
    "# 1068) 트리_골드5"
   ]
  },
  {
   "cell_type": "markdown",
   "id": "87cab494",
   "metadata": {},
   "source": [
    "문제  \n",
    "트리에서 리프 노드란, 자식의 개수가 0인 노드를 말한다.\n",
    "\n",
    "트리가 주어졌을 때, 노드 하나를 지울 것이다. 그 때, 남은 트리에서 리프 노드의 개수를 구하는 프로그램을 작성하시오. 노드를 지우면 그 노드와 노드의 모든 자손이 트리에서 제거된다.\n",
    "\n",
    "예를 들어, 다음과 같은 트리가 있다고 하자."
   ]
  },
  {
   "cell_type": "markdown",
   "id": "57751bfc",
   "metadata": {},
   "source": [
    "현재 리프 노드의 개수는 3개이다. (초록색 색칠된 노드) 이때, 1번을 지우면, 다음과 같이 변한다. 검정색으로 색칠된 노드가 트리에서 제거된 노드이다."
   ]
  },
  {
   "cell_type": "markdown",
   "id": "7f2ea08a",
   "metadata": {},
   "source": [
    "이제 리프 노드의 개수는 1개이다.`"
   ]
  },
  {
   "cell_type": "markdown",
   "id": "b498573e",
   "metadata": {},
   "source": [
    "입력  \n",
    "첫째 줄에 트리의 노드의 개수 N이 주어진다. N은 50보다 작거나 같은 자연수이다. 둘째 줄에는 0번 노드부터 N-1번 노드까지, 각 노드의 부모가 주어진다. 만약 부모가 없다면 (루트) -1이 주어진다. 셋째 줄에는 지울 노드의 번호가 주어진다."
   ]
  },
  {
   "cell_type": "markdown",
   "id": "fa0913b9",
   "metadata": {},
   "source": [
    "출력  \n",
    "첫째 줄에 입력으로 주어진 트리에서 입력으로 주어진 노드를 지웠을 때, 리프 노드의 개수를 출력한다."
   ]
  },
  {
   "cell_type": "code",
   "execution_count": 1,
   "id": "37089c6f",
   "metadata": {},
   "outputs": [
    {
     "name": "stdout",
     "output_type": "stream",
     "text": [
      "9\n",
      "-1 0 0 2 2 4 4 6 6\n",
      "4\n",
      "2\n"
     ]
    }
   ],
   "source": [
    "from collections import deque\n",
    "\n",
    "# 트리의 노드의 개수 N\n",
    "N = int(input())\n",
    "graph = [[] for _ in range(N)]\n",
    "\n",
    "# 0번 노드부터 N-1번 노드까지, 각 노드의 부모\n",
    "parent = list(map(int, input().split()))\n",
    "root = -1\n",
    "\n",
    "for node in range(N):\n",
    "    # 부모가 없을 경우\n",
    "    if parent[node] == -1:\n",
    "        root = node\n",
    "    else:\n",
    "        graph[parent[node]].append(node)\n",
    "        \n",
    "# 지울 노드의 번호\n",
    "remove = int(input())\n",
    "queue = deque([root] if root != remove else [])\n",
    "count = 0\n",
    "\n",
    "while len(queue) != 0:\n",
    "    v = queue.popleft()\n",
    "    leaf = 0\n",
    "    for node in graph[v]:\n",
    "        if node != remove:\n",
    "            leaf += 1\n",
    "            queue.append(node)\n",
    "    if leaf == 0:\n",
    "        count += 1\n",
    "        \n",
    "print(count)"
   ]
  }
 ],
 "metadata": {
  "kernelspec": {
   "display_name": "Python3.8_spare",
   "language": "python",
   "name": "spare"
  },
  "language_info": {
   "codemirror_mode": {
    "name": "ipython",
    "version": 3
   },
   "file_extension": ".py",
   "mimetype": "text/x-python",
   "name": "python",
   "nbconvert_exporter": "python",
   "pygments_lexer": "ipython3",
   "version": "3.8.13"
  }
 },
 "nbformat": 4,
 "nbformat_minor": 5
}
