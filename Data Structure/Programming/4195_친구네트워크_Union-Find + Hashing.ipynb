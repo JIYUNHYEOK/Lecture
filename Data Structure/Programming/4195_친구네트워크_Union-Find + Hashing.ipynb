{
 "cells": [
  {
   "cell_type": "markdown",
   "id": "73e9c1ee",
   "metadata": {},
   "source": [
    "# 4195) 친구네트워크_골드2"
   ]
  },
  {
   "cell_type": "markdown",
   "id": "757b5378",
   "metadata": {},
   "source": [
    "문제  \n",
    "민혁이는 소셜 네트워크 사이트에서 친구를 만드는 것을 좋아하는 친구이다. 우표를 모으는 취미가 있듯이, 민혁이는 소셜 네트워크 사이트에서 친구를 모으는 것이 취미이다.\n",
    "\n",
    "어떤 사이트의 친구 관계가 생긴 순서대로 주어졌을 때, 두 사람의 친구 네트워크에 몇 명이 있는지 구하는 프로그램을 작성하시오.\n",
    "\n",
    "친구 네트워크란 친구 관계만으로 이동할 수 있는 사이를 말한다."
   ]
  },
  {
   "cell_type": "markdown",
   "id": "79ef30df",
   "metadata": {},
   "source": [
    "입력  \n",
    "첫째 줄에 테스트 케이스의 개수가 주어진다. 각 테스트 케이스의 첫째 줄에는 친구 관계의 수 F가 주어지며, 이 값은 100,000을 넘지 않는다. 다음 F개의 줄에는 친구 관계가 생긴 순서대로 주어진다. 친구 관계는 두 사용자의 아이디로 이루어져 있으며, 알파벳 대문자 또는 소문자로만 이루어진 길이 20 이하의 문자열이다."
   ]
  },
  {
   "cell_type": "markdown",
   "id": "a0a3355a",
   "metadata": {},
   "source": [
    "출력  \n",
    "친구 관계가 생길 때마다, 두 사람의 친구 네트워크에 몇 명이 있는지 구하는 프로그램을 작성하시오.\n",
    "\n"
   ]
  },
  {
   "cell_type": "code",
   "execution_count": 1,
   "id": "6bf7ac17",
   "metadata": {},
   "outputs": [
    {
     "name": "stdout",
     "output_type": "stream",
     "text": [
      "2\n",
      "3\n",
      "Fred Barney\n",
      "2\n",
      "Barney Betty\n",
      "3\n",
      "Betty Wilma\n",
      "4\n",
      "3\n",
      "Fred Barney\n",
      "2\n",
      "Betty Wilma\n",
      "2\n",
      "Barney Betty\n",
      "4\n"
     ]
    }
   ],
   "source": [
    "# 부모 노드 탐색\n",
    "def find(x):\n",
    "    if root[x] == x:\n",
    "        return root[x]\n",
    "    else:\n",
    "        root[x] = find(root[x])\n",
    "        return root[x]\n",
    "\n",
    "# 노드 연결\n",
    "def union(x1, x2):\n",
    "    x1 = find(x1)\n",
    "    x2 = find(x2)\n",
    "    if x1 == x2:\n",
    "        return count[x1]\n",
    "    else:\n",
    "        root[x2] = x1\n",
    "        count[x1] += count[x2]\n",
    "        return count[x1]\n",
    "\n",
    "# 테스트 케이스 testnum\n",
    "testnum = int(input())\n",
    "for _ in range(testnum):\n",
    "    root, count = {}, {}\n",
    "    \n",
    "    # 친구 관계의 수 F\n",
    "    F = int(input())\n",
    "    for _ in range(F):\n",
    "        f1, f2 = input().split()\n",
    "        \n",
    "        if root.get(f1) == None:\n",
    "            root[f1] = f1\n",
    "            count[f1] = 1\n",
    "        if root.get(f2) == None:\n",
    "            root[f2] = f2\n",
    "            count[f2] = 1\n",
    "            \n",
    "        print(union(f1, f2))"
   ]
  }
 ],
 "metadata": {
  "kernelspec": {
   "display_name": "Python3.8_spare",
   "language": "python",
   "name": "spare"
  },
  "language_info": {
   "codemirror_mode": {
    "name": "ipython",
    "version": 3
   },
   "file_extension": ".py",
   "mimetype": "text/x-python",
   "name": "python",
   "nbconvert_exporter": "python",
   "pygments_lexer": "ipython3",
   "version": "3.8.13"
  }
 },
 "nbformat": 4,
 "nbformat_minor": 5
}
