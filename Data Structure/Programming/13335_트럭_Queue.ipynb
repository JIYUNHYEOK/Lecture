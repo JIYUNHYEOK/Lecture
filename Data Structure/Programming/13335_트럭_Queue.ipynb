{
 "cells": [
  {
   "cell_type": "markdown",
   "id": "2c554c30",
   "metadata": {},
   "source": [
    "# 13335) 트럭_실버1"
   ]
  },
  {
   "cell_type": "markdown",
   "id": "47706aa4",
   "metadata": {},
   "source": [
    "문제  \n",
    "강을 가로지르는 하나의 차선으로 된 다리가 하나 있다. 이 다리를 n 개의 트럭이 건너가려고 한다. 트럭의 순서는 바꿀 수 없으며, 트럭의 무게는 서로 같지 않을 수 있다. 다리 위에는 단지 w 대의 트럭만 동시에 올라갈 수 있다. 다리의 길이는 w 단위길이(unit distance)이며, 각 트럭들은 하나의 단위시간(unit time)에 하나의 단위길이만큼만 이동할 수 있다고 가정한다. 동시에 다리 위에 올라가 있는 트럭들의 무게의 합은 다리의 최대하중인 L보다 작거나 같아야 한다. 참고로, 다리 위에 완전히 올라가지 못한 트럭의 무게는 다리 위의 트럭들의 무게의 합을 계산할 때 포함하지 않는다고 가정한다.\n",
    "\n",
    "예를 들어, 다리의 길이 w는 2, 다리의 최대하중 L은 10, 다리를 건너려는 트럭이 트럭의 무게가 [7, 4, 5, 6]인 순서대로 다리를 오른쪽에서 왼쪽으로 건넌다고 하자. 이 경우 모든 트럭이 다리를 건너는 최단시간은 아래의 그림에서 보는 것과 같이 8 이다."
   ]
  },
  {
   "cell_type": "markdown",
   "id": "0de0e0d4",
   "metadata": {},
   "source": [
    "다리의 길이와 다리의 최대하중, 그리고 다리를 건너려는 트럭들의 무게가 순서대로 주어졌을 때, 모든 트럭이 다리를 건너는 최단시간을 구하는 프로그램을 작성하라."
   ]
  },
  {
   "cell_type": "markdown",
   "id": "a67d8bb8",
   "metadata": {},
   "source": [
    "입력  \n",
    "입력 데이터는 표준입력을 사용한다. 입력은 두 줄로 이루어진다. 입력의 첫 번째 줄에는 세 개의 정수 n (1 ≤ n ≤ 1,000) , w (1 ≤ w ≤ 100) and L (10 ≤ L ≤ 1,000)이 주어지는데, n은 다리를 건너는 트럭의 수, w는 다리의 길이, 그리고 L은 다리의 최대하중을 나타낸다. 입력의 두 번째 줄에는 n개의 정수 a1, a2, ⋯ , an (1 ≤ ai ≤ 10)가 주어지는데, ai는 i번째 트럭의 무게를 나타낸다."
   ]
  },
  {
   "cell_type": "markdown",
   "id": "3c9ffd33",
   "metadata": {},
   "source": [
    "출력  \n",
    "출력은 표준출력을 사용한다. 모든 트럭들이 다리를 건너는 최단시간을 출력하라.\n",
    "\n"
   ]
  },
  {
   "cell_type": "code",
   "execution_count": 24,
   "id": "67aacd2b",
   "metadata": {},
   "outputs": [
    {
     "name": "stdout",
     "output_type": "stream",
     "text": [
      "4 2 10\n",
      "7 4 5 6\n",
      "8\n"
     ]
    }
   ],
   "source": [
    "from collections import deque\n",
    "\n",
    "n, w, L = map(int, input().split()) # 4, 2, 10\n",
    "trucks = deque(list(map(int, input().split()))) # 7, 4, 5, 6\n",
    "\n",
    "bridge = deque([0] * w)\n",
    "time = 0\n",
    "\n",
    "# 트럭이 모두 다리에 탑승할 경우 종료\n",
    "while len(trucks) != 0:\n",
    "    time += 1\n",
    "    # 트럭이 한 칸씩 이동\n",
    "    bridge.popleft()\n",
    "    if len(bridge) < w:\n",
    "        # 트럭의 무게가 다리의 최대하중보다 작을 경우\n",
    "        if sum(bridge) + trucks[0] <= L:\n",
    "            # 다리에 트럭이 올라감\n",
    "            bridge.append(trucks.popleft())\n",
    "        # 트럭의 무게가 다리의 최대하중보다 클 경우\n",
    "        else:\n",
    "            # 다리에 트럭이 올라가지 못함, 트럭의 이동\n",
    "            bridge.append(0)\n",
    "# 트럭이 다리에 탑승한 뒤에 다리를 빠져나올 때 까지 소요된 시간 합산\n",
    "time += w\n",
    "\n",
    "print(time)"
   ]
  }
 ],
 "metadata": {
  "kernelspec": {
   "display_name": "Python3.8_spare",
   "language": "python",
   "name": "spare"
  },
  "language_info": {
   "codemirror_mode": {
    "name": "ipython",
    "version": 3
   },
   "file_extension": ".py",
   "mimetype": "text/x-python",
   "name": "python",
   "nbconvert_exporter": "python",
   "pygments_lexer": "ipython3",
   "version": "3.8.13"
  }
 },
 "nbformat": 4,
 "nbformat_minor": 5
}
