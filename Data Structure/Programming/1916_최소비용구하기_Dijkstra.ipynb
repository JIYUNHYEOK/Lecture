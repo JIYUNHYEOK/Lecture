{
 "cells": [
  {
   "cell_type": "markdown",
   "id": "f2caa0d1",
   "metadata": {},
   "source": [
    "# 1916) 최소비용구하기_Dijkstra"
   ]
  },
  {
   "cell_type": "markdown",
   "id": "c274a23f",
   "metadata": {},
   "source": [
    "문제  \n",
    "N개의 도시가 있다. 그리고 한 도시에서 출발하여 다른 도시에 도착하는 M개의 버스가 있다. 우리는 A번째 도시에서 B번째 도시까지 가는데 드는 버스 비용을 최소화 시키려고 한다. A번째 도시에서 B번째 도시까지 가는데 드는 최소비용을 출력하여라. 도시의 번호는 1부터 N까지이다."
   ]
  },
  {
   "cell_type": "markdown",
   "id": "c029a6ee",
   "metadata": {},
   "source": [
    "입력  \n",
    "첫째 줄에 도시의 개수 N(1 ≤ N ≤ 1,000)이 주어지고 둘째 줄에는 버스의 개수 M(1 ≤ M ≤ 100,000)이 주어진다. 그리고 셋째 줄부터 M+2줄까지 다음과 같은 버스의 정보가 주어진다. 먼저 처음에는 그 버스의 출발 도시의 번호가 주어진다. 그리고 그 다음에는 도착지의 도시 번호가 주어지고 또 그 버스 비용이 주어진다. 버스 비용은 0보다 크거나 같고, 100,000보다 작은 정수이다.\n",
    "\n",
    "그리고 M+3째 줄에는 우리가 구하고자 하는 구간 출발점의 도시번호와 도착점의 도시번호가 주어진다. 출발점에서 도착점을 갈 수 있는 경우만 입력으로 주어진다."
   ]
  },
  {
   "cell_type": "markdown",
   "id": "7128ba7c",
   "metadata": {},
   "source": [
    "출력  \n",
    "첫째 줄에 출발 도시에서 도착 도시까지 가는데 드는 최소 비용을 출력한다."
   ]
  },
  {
   "cell_type": "code",
   "execution_count": 1,
   "id": "8b080203",
   "metadata": {},
   "outputs": [
    {
     "name": "stdout",
     "output_type": "stream",
     "text": [
      "5\n",
      "8\n",
      "1 2 2\n",
      "1 3 3\n",
      "1 4 1\n",
      "1 5 10\n",
      "2 4 2\n",
      "3 4 1\n",
      "3 5 1\n",
      "4 5 3\n",
      "1 5\n",
      "4\n"
     ]
    }
   ],
   "source": [
    "import sys\n",
    "import heapq\n",
    "\n",
    "INF = sys.maxsize\n",
    "# input = sys.stdin.readline\n",
    "\n",
    "def dijkstra(start_stop, end_stop):\n",
    "    heap = [[0, start_stop]]\n",
    "    distance = [INF for _ in range(N + 1)]\n",
    "    distance[start_stop] = 0\n",
    "\n",
    "    while len(heap) != 0:\n",
    "        time, start = heapq.heappop(heap)\n",
    "\n",
    "        if distance[start] < time:\n",
    "            continue\n",
    "            \n",
    "        for end, cost in bus_info[start]:\n",
    "            new_dist = time + cost\n",
    "            # 최단거리 갱신 및 초기화\n",
    "            if distance[end] > new_dist:\n",
    "                distance[end] = new_dist\n",
    "                heapq.heappush(heap, [new_dist, end])\n",
    "    return distance[end_stop]\n",
    "\n",
    "# 도시의 개수 N\n",
    "N = int(input())\n",
    "\n",
    "# 버스의 개수 M\n",
    "M = int(input())\n",
    "\n",
    "# 버스정보를 받음, 단 인덱스를 맞추기 위하여 N+1로 설정\n",
    "bus_info = [[] for _ in range(N + 1)]\n",
    "\n",
    "for _ in range(M):\n",
    "    bus_start, bus_end, bus_cost = map(int, input().split())\n",
    "    bus_info[bus_start].append((bus_end, bus_cost))\n",
    "    \n",
    "start_stop, end_stop = map(int, input().split())\n",
    "print(dijkstra(start_stop, end_stop))"
   ]
  }
 ],
 "metadata": {
  "kernelspec": {
   "display_name": "Python3.8_spare",
   "language": "python",
   "name": "spare"
  },
  "language_info": {
   "codemirror_mode": {
    "name": "ipython",
    "version": 3
   },
   "file_extension": ".py",
   "mimetype": "text/x-python",
   "name": "python",
   "nbconvert_exporter": "python",
   "pygments_lexer": "ipython3",
   "version": "3.8.13"
  }
 },
 "nbformat": 4,
 "nbformat_minor": 5
}
