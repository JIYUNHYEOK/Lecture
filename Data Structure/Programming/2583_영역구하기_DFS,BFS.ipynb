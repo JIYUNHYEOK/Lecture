{
 "cells": [
  {
   "cell_type": "markdown",
   "id": "e0e3764e",
   "metadata": {},
   "source": [
    "# 2583) 영역구하기_실버1"
   ]
  },
  {
   "cell_type": "markdown",
   "id": "3f6cd686",
   "metadata": {},
   "source": [
    "문제  \n",
    "눈금의 간격이 1인 M×N(M,N≤100)크기의 모눈종이가 있다. 이 모눈종이 위에 눈금에 맞추어 K개의 직사각형을 그릴 때, 이들 K개의 직사각형의 내부를 제외한 나머지 부분이 몇 개의 분리된 영역으로 나누어진다.\n",
    "\n",
    "예를 들어 M=5, N=7 인 모눈종이 위에 <그림 1>과 같이 직사각형 3개를 그렸다면, 그 나머지 영역은 <그림 2>와 같이 3개의 분리된 영역으로 나누어지게 된다.\n",
    "<그림 2>와 같이 분리된 세 영역의 넓이는 각각 1, 7, 13이 된다.\n",
    "\n",
    "M, N과 K 그리고 K개의 직사각형의 좌표가 주어질 때, K개의 직사각형 내부를 제외한 나머지 부분이 몇 개의 분리된 영역으로 나누어지는지, 그리고 분리된 각 영역의 넓이가 얼마인지를 구하여 이를 출력하는 프로그램을 작성하시오."
   ]
  },
  {
   "cell_type": "markdown",
   "id": "164149d3",
   "metadata": {},
   "source": [
    "입력  \n",
    "첫째 줄에 M과 N, 그리고 K가 빈칸을 사이에 두고 차례로 주어진다. M, N, K는 모두 100 이하의 자연수이다. 둘째 줄부터 K개의 줄에는 한 줄에 하나씩 직사각형의 왼쪽 아래 꼭짓점의 x, y좌표값과 오른쪽 위 꼭짓점의 x, y좌표값이 빈칸을 사이에 두고 차례로 주어진다. 모눈종이의 왼쪽 아래 꼭짓점의 좌표는 (0,0)이고, 오른쪽 위 꼭짓점의 좌표는(N,M)이다. 입력되는 K개의 직사각형들이 모눈종이 전체를 채우는 경우는 없다."
   ]
  },
  {
   "cell_type": "markdown",
   "id": "14029f9f",
   "metadata": {},
   "source": [
    "출력  \n",
    "첫째 줄에 분리되어 나누어지는 영역의 개수를 출력한다. 둘째 줄에는 각 영역의 넓이를 오름차순으로 정렬하여 빈칸을 사이에 두고 출력한다."
   ]
  },
  {
   "cell_type": "code",
   "execution_count": 1,
   "id": "ebd05c61",
   "metadata": {},
   "outputs": [
    {
     "name": "stdout",
     "output_type": "stream",
     "text": [
      "5 7 3\n",
      "0 2 4 4\n",
      "1 1 2 5\n",
      "4 0 6 2\n",
      "3\n",
      "1 7 13\n"
     ]
    }
   ],
   "source": [
    "from sys import*\n",
    "setrecursionlimit(10**6)\n",
    "\n",
    "m, n, k = map(int, input().split())\n",
    "board = [[0] * n for _ in range(m)]\n",
    "\n",
    "for _ in range(k):\n",
    "    x1, y1, x2, y2 = map(int, input().split())\n",
    "    for x in range(x1, x2):\n",
    "        for y in range(y1, y2):\n",
    "            board[y][x] = 1\n",
    "            \n",
    "dx = [0, 0, -1, 1]\n",
    "dy = [1, -1, 0, 0]\n",
    "\n",
    "def dfs(x, y, cnt):\n",
    "    board[x][y] = 1\n",
    "    for direction in range(4):\n",
    "        nx = x + dx[direction]\n",
    "        ny = y + dy[direction]\n",
    "        \n",
    "        if nx >= 0 and nx < m and ny >= 0 and ny < n:\n",
    "            if board[nx][ny] == 0:\n",
    "                cnt += 1\n",
    "                cnt = dfs(nx, ny, cnt)\n",
    "    return cnt\n",
    "                \n",
    "area = []\n",
    "for row in range(m):\n",
    "    for col in range(n):\n",
    "        if board[row][col] == 0:\n",
    "            area.append(dfs(row, col, 1))\n",
    "            \n",
    "print(len(area))\n",
    "print(*sorted(area))"
   ]
  }
 ],
 "metadata": {
  "kernelspec": {
   "display_name": "Python3.8_spare",
   "language": "python",
   "name": "spare"
  },
  "language_info": {
   "codemirror_mode": {
    "name": "ipython",
    "version": 3
   },
   "file_extension": ".py",
   "mimetype": "text/x-python",
   "name": "python",
   "nbconvert_exporter": "python",
   "pygments_lexer": "ipython3",
   "version": "3.8.13"
  }
 },
 "nbformat": 4,
 "nbformat_minor": 5
}
