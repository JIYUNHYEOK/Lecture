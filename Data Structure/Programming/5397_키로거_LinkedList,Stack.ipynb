{
 "cells": [
  {
   "cell_type": "markdown",
   "id": "e933766d",
   "metadata": {},
   "source": [
    "# 5397) 키로거_실버3"
   ]
  },
  {
   "cell_type": "markdown",
   "id": "d38fab70",
   "metadata": {},
   "source": [
    "문제  \n",
    "창영이는 강산이의 비밀번호를 훔치기 위해서 강산이가 사용하는 컴퓨터에 키로거를 설치했다. 며칠을 기다린 끝에 창영이는 강산이가 비밀번호 창에 입력하는 글자를 얻어냈다.\n",
    "\n",
    "키로거는 사용자가 키보드를 누른 명령을 모두 기록한다. 따라서, 강산이가 비밀번호를 입력할 때, 화살표나 백스페이스를 입력해도 정확한 비밀번호를 알아낼 수 있다. \n",
    "\n",
    "강산이가 비밀번호 창에서 입력한 키가 주어졌을 때, 강산이의 비밀번호를 알아내는 프로그램을 작성하시오. 강산이는 키보드로 입력한 키는 알파벳 대문자, 소문자, 숫자, 백스페이스, 화살표이다."
   ]
  },
  {
   "cell_type": "markdown",
   "id": "4caa41ff",
   "metadata": {},
   "source": [
    "입력  \n",
    "첫째 줄에 테스트 케이스의 개수가 주어진다. 각 테스트 케이스는 한줄로 이루어져 있고, 강산이가 입력한 순서대로 길이가 L인 문자열이 주어진다. (1 ≤ L ≤ 1,000,000) 강산이가 백스페이스를 입력했다면, '-'가 주어진다. 이때 커서의 바로 앞에 글자가 존재한다면, 그 글자를 지운다. 화살표의 입력은 '<'와 '>'로 주어진다. 이때는 커서의 위치를 움직일 수 있다면, 왼쪽 또는 오른쪽으로 1만큼 움직인다. 나머지 문자는 비밀번호의 일부이다. 물론, 나중에 백스페이스를 통해서 지울 수는 있다. 만약 커서의 위치가 줄의 마지막이 아니라면, 커서 및 커서 오른쪽에 있는 모든 문자는 오른쪽으로 한 칸 이동한다."
   ]
  },
  {
   "cell_type": "markdown",
   "id": "77549786",
   "metadata": {},
   "source": [
    "출력  \n",
    "각 테스트 케이스에 대해서, 강산이의 비밀번호를 출력한다. 비밀번호의 길이는 항상 0보다 크다."
   ]
  },
  {
   "cell_type": "code",
   "execution_count": 8,
   "id": "8bc0ad76",
   "metadata": {},
   "outputs": [
    {
     "name": "stdout",
     "output_type": "stream",
     "text": [
      "2\n",
      "<<BP<A>>Cd-\n",
      "BAPC\n",
      "ThIsIsS3Cr3t\n",
      "ThIsIsS3Cr3t\n"
     ]
    }
   ],
   "source": [
    "def keylogger(string):\n",
    "    left_stack, right_stack = [], []\n",
    "    \n",
    "    for i in string:\n",
    "         # 백스페이스를 입력, 커서의 바로 앞 글자 left_stack 마지막 값 제거\n",
    "        if i == '-':\n",
    "            if len(left_stack) != 0:\n",
    "                left_stack.pop()\n",
    "        # 좌측으로 커서 이동, left_stack의 마지막 값을 right_stack으로 이동\n",
    "        elif i == '<':\n",
    "            if len(left_stack) != 0:\n",
    "                right_stack.append(left_stack.pop())\n",
    "        # 우측으로 커서 이동, right_stack의 마지막 값을 left_stack으로 이동\n",
    "        elif i == '>':\n",
    "            if len(right_stack) != 0:\n",
    "                left_stack.append(right_stack.pop())\n",
    "        # 나머지 문자는 비밀번호의 일부\n",
    "        else:\n",
    "            left_stack.append(i)\n",
    "            \n",
    "    print(''.join(left_stack) + ''.join(right_stack[::-1]))\n",
    "            \n",
    "\n",
    "testnum = int(input())\n",
    "\n",
    "for _ in range(testnum):\n",
    "    string = input()\n",
    "    keylogger(string)"
   ]
  }
 ],
 "metadata": {
  "kernelspec": {
   "display_name": "Python3.8_spare",
   "language": "python",
   "name": "spare"
  },
  "language_info": {
   "codemirror_mode": {
    "name": "ipython",
    "version": 3
   },
   "file_extension": ".py",
   "mimetype": "text/x-python",
   "name": "python",
   "nbconvert_exporter": "python",
   "pygments_lexer": "ipython3",
   "version": "3.8.13"
  }
 },
 "nbformat": 4,
 "nbformat_minor": 5
}
