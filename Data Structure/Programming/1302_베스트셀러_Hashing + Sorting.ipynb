{
 "cells": [
  {
   "cell_type": "markdown",
   "id": "f840fbf8",
   "metadata": {},
   "source": [
    "# 1302) 베스트셀러_hashing + sorting_실버4"
   ]
  },
  {
   "cell_type": "markdown",
   "id": "599f68db",
   "metadata": {},
   "source": [
    "문제  \n",
    "김형택은 탑문고의 직원이다. 김형택은 계산대에서 계산을 하는 직원이다. 김형택은 그날 근무가 끝난 후에, 오늘 판매한 책의 제목을 보면서 가장 많이 팔린 책의 제목을 칠판에 써놓는 일도 같이 하고 있다.\n",
    "\n",
    "오늘 하루 동안 팔린 책의 제목이 입력으로 들어왔을 때, 가장 많이 팔린 책의 제목을 출력하는 프로그램을 작성하시오."
   ]
  },
  {
   "cell_type": "markdown",
   "id": "7b951dd9",
   "metadata": {},
   "source": [
    "입력  \n",
    "첫째 줄에 오늘 하루 동안 팔린 책의 개수 N이 주어진다. 이 값은 1,000보다 작거나 같은 자연수이다. 둘째부터 N개의 줄에 책의 제목이 입력으로 들어온다. 책의 제목의 길이는 50보다 작거나 같고, 알파벳 소문자로만 이루어져 있다."
   ]
  },
  {
   "cell_type": "markdown",
   "id": "d7f2fc7c",
   "metadata": {},
   "source": [
    "출력  \n",
    "첫째 줄에 가장 많이 팔린 책의 제목을 출력한다. 만약 가장 많이 팔린 책이 여러 개일 경우에는 사전 순으로 가장 앞서는 제목을 출력한다."
   ]
  },
  {
   "cell_type": "code",
   "execution_count": 1,
   "id": "c8058835",
   "metadata": {},
   "outputs": [
    {
     "name": "stdout",
     "output_type": "stream",
     "text": [
      "5\n",
      "top\n",
      "top\n",
      "top\n",
      "top\n",
      "kimtop\n",
      "top\n"
     ]
    }
   ],
   "source": [
    "# 하루 동안 팔린 책의 개수 N\n",
    "N = int(input())\n",
    "\n",
    "# 책이름과 팔린 숫자를 딕셔너리로 저장\n",
    "books = {}\n",
    "\n",
    "for _ in range(N):\n",
    "    title = input()\n",
    "    # 해당 책이 처음 팔렸다면 새로 책을 생성\n",
    "    if books.get(title) == None:\n",
    "        books[title] = 0\n",
    "    books[title] += 1\n",
    "\n",
    "# 팔린 책들에 대하여 리스트를 생성\n",
    "book_list = list(books.items())\n",
    "\n",
    "# 해당 리스트를 팔린 책의 갯수를 key로 지정하여 정렬\n",
    "# 가장 많이 팔린 책이 여러 개일 경우에 사전 순으로 정렬\n",
    "book_list.sort(key = lambda x: (-x[1], x[0]))\n",
    "\n",
    "# 가장 많이 팔린 책의 이름 출력\n",
    "print(book_list[0][0])"
   ]
  }
 ],
 "metadata": {
  "kernelspec": {
   "display_name": "Python3.8_spare",
   "language": "python",
   "name": "spare"
  },
  "language_info": {
   "codemirror_mode": {
    "name": "ipython",
    "version": 3
   },
   "file_extension": ".py",
   "mimetype": "text/x-python",
   "name": "python",
   "nbconvert_exporter": "python",
   "pygments_lexer": "ipython3",
   "version": "3.8.13"
  }
 },
 "nbformat": 4,
 "nbformat_minor": 5
}
